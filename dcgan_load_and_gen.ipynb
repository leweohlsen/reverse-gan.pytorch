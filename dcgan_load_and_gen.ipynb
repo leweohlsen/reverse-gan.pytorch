{
 "cells": [
  {
   "cell_type": "code",
   "execution_count": 1,
   "metadata": {
    "collapsed": true
   },
   "outputs": [],
   "source": [
    "from __future__ import print_function\n",
    "import argparse\n",
    "import os\n",
    "import random\n",
    "import torch\n",
    "import torch.nn as nn\n",
    "import torch.nn.parallel\n",
    "import torch.backends.cudnn as cudnn\n",
    "import torch.optim as optim\n",
    "import torch.utils.data\n",
    "import torchvision.utils as vutils\n",
    "import time\n",
    "from torch.autograd import Variable\n",
    "from dataset import get_dataloader\n",
    "import numpy as np"
   ]
  },
  {
   "cell_type": "code",
   "execution_count": 2,
   "metadata": {},
   "outputs": [],
   "source": [
    "from dcgan import NetG, NetD"
   ]
  },
  {
   "cell_type": "code",
   "execution_count": 3,
   "metadata": {},
   "outputs": [],
   "source": [
    "ngpu = 1\n",
    "nz = 100\n",
    "ngf = 64\n",
    "nc = 3\n",
    "batch_size = 1\n",
    "cuda = True\n",
    "\n",
    "# load netG\n",
    "netG = NetG(ngpu, nz, ngf, nc)\n",
    "netG.load_state_dict(torch.load('dcgan_out/netG_epoch_10.pth'))"
   ]
  },
  {
   "cell_type": "code",
   "execution_count": 4,
   "metadata": {},
   "outputs": [],
   "source": [
    "# generate ground-truth noise\n",
    "noise = torch.FloatTensor(batch_size, nz, 1, 1).normal_(0, 1)\n",
    "noise = Variable(noise)\n",
    "noise.data.resize_(batch_size, nz, 1, 1)\n",
    "noise.data.normal_(0, 1)\n",
    "\n",
    "for param in netG.parameters():\n",
    "    param.requires_grad = False"
   ]
  },
  {
   "cell_type": "code",
   "execution_count": 7,
   "metadata": {},
   "outputs": [
    {
     "name": "stdout",
     "output_type": "stream",
     "text": [
      "[Iter 0] MSE_FAKE: 0.20300279557704926, MSE_Z: 2.026460647583008\n",
      "[Iter 100] MSE_FAKE: 0.021984094753861427, MSE_Z: 2.971254348754883\n",
      "[Iter 200] MSE_FAKE: 0.014727490954101086, MSE_Z: 2.8681323528289795\n",
      "[Iter 300] MSE_FAKE: 0.006044231355190277, MSE_Z: 2.454547166824341\n",
      "[Iter 400] MSE_FAKE: 0.0031996462494134903, MSE_Z: 1.9438693523406982\n",
      "[Iter 500] MSE_FAKE: 0.0014635728439316154, MSE_Z: 1.3652663230895996\n",
      "[Iter 600] MSE_FAKE: 0.0007068703998811543, MSE_Z: 0.9875016808509827\n",
      "[Iter 700] MSE_FAKE: 0.0003372490464244038, MSE_Z: 0.7456369996070862\n",
      "[Iter 800] MSE_FAKE: 0.0001678826374700293, MSE_Z: 0.611947238445282\n",
      "[Iter 900] MSE_FAKE: 6.771142216166481e-05, MSE_Z: 0.527716338634491\n",
      "[Iter 1000] MSE_FAKE: 2.557785228418652e-05, MSE_Z: 0.4840486943721771\n",
      "[Iter 1100] MSE_FAKE: 9.290783964388538e-06, MSE_Z: 0.4624810814857483\n",
      "[Iter 1200] MSE_FAKE: 3.103694552919478e-06, MSE_Z: 0.45244094729423523\n",
      "[Iter 1300] MSE_FAKE: 9.336624771094648e-07, MSE_Z: 0.4478849172592163\n",
      "[Iter 1400] MSE_FAKE: 2.7193883056497725e-07, MSE_Z: 0.44567233324050903\n",
      "[Iter 1500] MSE_FAKE: 7.382624289675732e-08, MSE_Z: 0.4446045160293579\n",
      "[Iter 1600] MSE_FAKE: 1.9074418489140044e-08, MSE_Z: 0.44408923387527466\n",
      "[Iter 1700] MSE_FAKE: 4.277987954992568e-06, MSE_Z: 0.44606873393058777\n",
      "[Iter 1800] MSE_FAKE: 1.1510132026160136e-05, MSE_Z: 0.44981133937835693\n",
      "[Iter 1900] MSE_FAKE: 1.5778619854245335e-05, MSE_Z: 0.4556005597114563\n",
      "[Iter 2000] MSE_FAKE: 1.484822973907285e-06, MSE_Z: 0.4625196158885956\n",
      "[Iter 2100] MSE_FAKE: 2.429800952086225e-05, MSE_Z: 0.4702083468437195\n",
      "[Iter 2200] MSE_FAKE: 1.710880383143376e-06, MSE_Z: 0.47884461283683777\n",
      "[Iter 2300] MSE_FAKE: 1.3336721167434007e-05, MSE_Z: 0.4878643751144409\n",
      "[Iter 2400] MSE_FAKE: 4.446396360435756e-06, MSE_Z: 0.4974772334098816\n",
      "[Iter 2500] MSE_FAKE: 1.9805002011707984e-05, MSE_Z: 0.5065762400627136\n",
      "[Iter 2600] MSE_FAKE: 1.7542871546538663e-06, MSE_Z: 0.5153782367706299\n",
      "[Iter 2700] MSE_FAKE: 1.1348389534759917e-06, MSE_Z: 0.5258377194404602\n",
      "[Iter 2800] MSE_FAKE: 2.070743175863754e-05, MSE_Z: 0.5358665585517883\n",
      "[Iter 2900] MSE_FAKE: 8.276183507405221e-06, MSE_Z: 0.5478197932243347\n",
      "[Iter 3000] MSE_FAKE: 4.023799192509614e-06, MSE_Z: 0.5600212216377258\n",
      "[Iter 3100] MSE_FAKE: 4.208320660836762e-06, MSE_Z: 0.5713942646980286\n",
      "[Iter 3200] MSE_FAKE: 7.159992492233869e-07, MSE_Z: 0.5846838355064392\n",
      "[Iter 3300] MSE_FAKE: 1.7839074644143693e-05, MSE_Z: 0.5973880887031555\n",
      "[Iter 3400] MSE_FAKE: 1.1798959349107463e-05, MSE_Z: 0.6129496097564697\n",
      "[Iter 3500] MSE_FAKE: 2.275770930282306e-05, MSE_Z: 0.6247028708457947\n",
      "[Iter 3600] MSE_FAKE: 1.9479850379866548e-05, MSE_Z: 0.6382279992103577\n",
      "[Iter 3700] MSE_FAKE: 1.2214965863677207e-05, MSE_Z: 0.6545573472976685\n",
      "[Iter 3800] MSE_FAKE: 2.7500645956024528e-05, MSE_Z: 0.6679990291595459\n",
      "[Iter 3900] MSE_FAKE: 2.882309490814805e-05, MSE_Z: 0.6819975972175598\n",
      "[Iter 4000] MSE_FAKE: 8.166045518009923e-06, MSE_Z: 0.6971691846847534\n",
      "[Iter 4100] MSE_FAKE: 1.7528602256788872e-05, MSE_Z: 0.7139720320701599\n",
      "[Iter 4200] MSE_FAKE: 4.812335191672901e-06, MSE_Z: 0.7291094064712524\n",
      "[Iter 4300] MSE_FAKE: 2.0131001292611472e-05, MSE_Z: 0.7446607947349548\n",
      "[Iter 4400] MSE_FAKE: 1.5859397535678e-05, MSE_Z: 0.7597400546073914\n",
      "[Iter 4500] MSE_FAKE: 1.8873417502618395e-05, MSE_Z: 0.7785376906394958\n",
      "[Iter 4600] MSE_FAKE: 1.3629535715153906e-05, MSE_Z: 0.7940840125083923\n",
      "[Iter 4700] MSE_FAKE: 1.1964465556957293e-05, MSE_Z: 0.8093560934066772\n",
      "[Iter 4800] MSE_FAKE: 6.393191597453551e-06, MSE_Z: 0.8273570537567139\n",
      "[Iter 4900] MSE_FAKE: 1.7299455066677183e-05, MSE_Z: 0.8455447554588318\n",
      "[Iter 5000] MSE_FAKE: 2.3825748485251097e-06, MSE_Z: 0.8625545501708984\n",
      "[Iter 5100] MSE_FAKE: 1.178523802991549e-06, MSE_Z: 0.879513680934906\n",
      "[Iter 5200] MSE_FAKE: 5.096617769595468e-06, MSE_Z: 0.8972095251083374\n",
      "[Iter 5300] MSE_FAKE: 2.264409204144613e-06, MSE_Z: 0.9159123301506042\n",
      "[Iter 5400] MSE_FAKE: 1.1738095054170117e-05, MSE_Z: 0.933829128742218\n",
      "[Iter 5500] MSE_FAKE: 1.8121359971701168e-05, MSE_Z: 0.9510024785995483\n",
      "[Iter 5600] MSE_FAKE: 5.090310878586024e-06, MSE_Z: 0.9694969058036804\n",
      "[Iter 5700] MSE_FAKE: 8.002699360076804e-06, MSE_Z: 0.9873796701431274\n",
      "[Iter 5800] MSE_FAKE: 3.847926109301625e-06, MSE_Z: 1.0066031217575073\n",
      "[Iter 5900] MSE_FAKE: 1.2320429050305393e-05, MSE_Z: 1.026422381401062\n",
      "[Iter 6000] MSE_FAKE: 9.482923815085087e-06, MSE_Z: 1.0453060865402222\n",
      "[Iter 6100] MSE_FAKE: 7.886259481892921e-06, MSE_Z: 1.0644545555114746\n",
      "[Iter 6200] MSE_FAKE: 1.4545074918714818e-05, MSE_Z: 1.0833330154418945\n",
      "[Iter 6300] MSE_FAKE: 1.038946084008785e-05, MSE_Z: 1.1036529541015625\n",
      "[Iter 6400] MSE_FAKE: 2.133554698957596e-05, MSE_Z: 1.122963309288025\n",
      "[Iter 6500] MSE_FAKE: 2.578517705842387e-05, MSE_Z: 1.1412016153335571\n",
      "[Iter 6600] MSE_FAKE: 4.494875156524358e-06, MSE_Z: 1.162447214126587\n",
      "[Iter 6700] MSE_FAKE: 2.031792791967746e-05, MSE_Z: 1.1834533214569092\n",
      "[Iter 6800] MSE_FAKE: 9.117648914980236e-06, MSE_Z: 1.2036393880844116\n",
      "[Iter 6900] MSE_FAKE: 4.347680260252673e-06, MSE_Z: 1.2245923280715942\n",
      "[Iter 7000] MSE_FAKE: 1.1322193131491076e-05, MSE_Z: 1.243416428565979\n",
      "[Iter 7100] MSE_FAKE: 2.011549258895684e-05, MSE_Z: 1.2659088373184204\n",
      "[Iter 7200] MSE_FAKE: 1.3737503650190774e-06, MSE_Z: 1.286002516746521\n",
      "[Iter 7300] MSE_FAKE: 3.1820288768358296e-06, MSE_Z: 1.3060739040374756\n",
      "[Iter 7400] MSE_FAKE: 8.53480651130667e-06, MSE_Z: 1.3283014297485352\n",
      "[Iter 7500] MSE_FAKE: 4.162823643127922e-06, MSE_Z: 1.3498224020004272\n",
      "[Iter 7600] MSE_FAKE: 1.1644261576293502e-05, MSE_Z: 1.3710510730743408\n",
      "[Iter 7700] MSE_FAKE: 3.5884186218027025e-06, MSE_Z: 1.3924452066421509\n",
      "[Iter 7800] MSE_FAKE: 1.0392578587925527e-05, MSE_Z: 1.414542555809021\n",
      "[Iter 7900] MSE_FAKE: 6.771831522200955e-06, MSE_Z: 1.437963843345642\n",
      "[Iter 8000] MSE_FAKE: 2.337944351893384e-05, MSE_Z: 1.4568439722061157\n",
      "[Iter 8100] MSE_FAKE: 2.6706736662163166e-06, MSE_Z: 1.4792333841323853\n",
      "[Iter 8200] MSE_FAKE: 1.3453867495627492e-06, MSE_Z: 1.5009377002716064\n",
      "[Iter 8300] MSE_FAKE: 7.439615274051903e-06, MSE_Z: 1.5208085775375366\n",
      "[Iter 8400] MSE_FAKE: 1.7582930013304576e-05, MSE_Z: 1.5432233810424805\n",
      "[Iter 8500] MSE_FAKE: 3.230450829505571e-06, MSE_Z: 1.5667452812194824\n",
      "[Iter 8600] MSE_FAKE: 1.8497508790460415e-05, MSE_Z: 1.5879744291305542\n",
      "[Iter 8700] MSE_FAKE: 5.051088464824716e-06, MSE_Z: 1.6102107763290405\n",
      "[Iter 8800] MSE_FAKE: 5.32687408849597e-06, MSE_Z: 1.6331915855407715\n",
      "[Iter 8900] MSE_FAKE: 6.7905907599197235e-06, MSE_Z: 1.655763864517212\n",
      "[Iter 9000] MSE_FAKE: 1.4487092130366364e-06, MSE_Z: 1.6787443161010742\n",
      "[Iter 9100] MSE_FAKE: 1.533051545266062e-05, MSE_Z: 1.7002661228179932\n",
      "[Iter 9200] MSE_FAKE: 5.036751190345967e-06, MSE_Z: 1.724238395690918\n",
      "[Iter 9300] MSE_FAKE: 1.1606064617808443e-05, MSE_Z: 1.7468688488006592\n",
      "[Iter 9400] MSE_FAKE: 2.8353013021842344e-06, MSE_Z: 1.7680875062942505\n",
      "[Iter 9500] MSE_FAKE: 2.7028438580600778e-06, MSE_Z: 1.793601393699646\n",
      "[Iter 9600] MSE_FAKE: 1.1544008202690748e-06, MSE_Z: 1.8149099349975586\n",
      "[Iter 9700] MSE_FAKE: 3.9246774576895405e-06, MSE_Z: 1.8406023979187012\n",
      "[Iter 9800] MSE_FAKE: 1.2658828154599178e-06, MSE_Z: 1.8654534816741943\n",
      "[Iter 9900] MSE_FAKE: 1.3426537179839215e-06, MSE_Z: 1.888606309890747\n"
     ]
    }
   ],
   "source": [
    "# fix fake, and try to find noise_approx\n",
    "noise_approx = torch.FloatTensor(batch_size, nz, 1, 1).normal_(0, 1)\n",
    "\n",
    "mse_loss = nn.MSELoss()\n",
    "mse_loss_ = nn.MSELoss()\n",
    "\n",
    "if cuda:\n",
    "    netG.cuda()\n",
    "    mse_loss.cuda()\n",
    "    mse_loss_.cuda()\n",
    "    noise, noise_approx = noise.cuda(), noise_approx.cuda()\n",
    "    \n",
    "noise_approx = Variable(noise_approx)\n",
    "noise_approx.requires_grad = True\n",
    "    \n",
    "# generate ground-truth fake\n",
    "fake = netG(noise)\n",
    "\n",
    "optimizer_approx = optim.Adam([noise_approx], lr=0.1)\n",
    "\n",
    "for i in range(10000):\n",
    "    fake_approx = netG(noise_approx)\n",
    "    mse_g_z = mse_loss(fake_approx, fake)\n",
    "    mse_z = mse_loss_(noise_approx, noise)\n",
    "    if i % 100 == 0:\n",
    "        print(\"[Iter {}] MSE_FAKE: {}, MSE_Z: {}\".format(i, mse_g_z.data[0], mse_z.data[0]))\n",
    "    \n",
    "    optimizer_approx.zero_grad()\n",
    "    mse_g_z.backward()\n",
    "    optimizer_approx.step()"
   ]
  },
  {
   "cell_type": "markdown",
   "metadata": {},
   "source": [
    "fake = netG(noise)\n",
    "fake_approx = netG(noise_approx)"
   ]
  },
  {
   "cell_type": "code",
   "execution_count": 8,
   "metadata": {},
   "outputs": [],
   "source": [
    "vutils.save_image(fake.data, 'fake.png', normalize=True)\n",
    "vutils.save_image(fake_approx.data, 'fake_approx.png', normalize=True)"
   ]
  },
  {
   "cell_type": "code",
   "execution_count": 15,
   "metadata": {},
   "outputs": [
    {
     "data": {
      "text/plain": [
       "array([ 1.69100118,  0.72466552,  0.73702824,  2.3856442 , -0.94328904,\n",
       "        0.05708402,  0.13811016,  0.77042025, -0.46943244,  1.24417961,\n",
       "       -2.16498637, -1.42277205,  1.46144092,  0.17080203, -2.41030002,\n",
       "       -0.40689799, -1.07115328,  0.418304  , -1.22909939,  0.34344131,\n",
       "        3.14133811,  0.06180882,  1.3216548 ,  1.10382843,  1.38872552,\n",
       "        0.57337695, -0.79826051,  0.28043532, -0.83162022, -0.36407673,\n",
       "       -1.2889415 ,  2.24460101, -0.74751437,  0.78405386,  0.68708318,\n",
       "       -0.61732829,  0.82146758,  1.19340098,  2.65454221,  0.12988228,\n",
       "       -1.64468169,  0.99226892,  0.77125621,  0.49970794, -0.14034425,\n",
       "        0.14686015,  0.16135581,  0.76836437, -0.28110358, -0.29089868,\n",
       "       -1.00630951, -0.17442678,  0.41141662,  0.12794891,  0.16601108,\n",
       "        0.0290424 ,  0.27796671,  0.62717307,  0.2483553 , -1.18546915,\n",
       "       -1.55874419,  0.9953292 ,  0.42532387, -0.97265053, -0.27604049,\n",
       "        1.63162339,  0.65108162,  0.32728192, -0.6402244 ,  1.03703666,\n",
       "        0.6091494 ,  0.39203146,  0.03094573,  1.25244713, -2.28101325,\n",
       "       -0.92029607, -1.73409307,  0.80406159,  0.37037882,  0.42362893,\n",
       "       -1.36627698,  0.90053648,  1.28354239,  0.51128232, -1.23857999,\n",
       "        0.35975128,  0.76279795, -1.28061473, -1.07697976,  0.75916231,\n",
       "        1.74341631, -0.80872524,  0.76139748, -1.15049231,  0.31056458,\n",
       "        0.47146982, -0.19661526,  1.61915636, -0.59297359, -0.78329211], dtype=float32)"
      ]
     },
     "execution_count": 15,
     "metadata": {},
     "output_type": "execute_result"
    }
   ],
   "source": [
    "noise.cpu().data.numpy().squeeze()"
   ]
  },
  {
   "cell_type": "code",
   "execution_count": 16,
   "metadata": {},
   "outputs": [
    {
     "data": {
      "text/plain": [
       "array([ 3.83413363,  1.64004314,  1.72916567,  5.46390581, -2.1696012 ,\n",
       "        0.10305223,  0.31953248,  1.76448631, -1.10417485,  2.82099509,\n",
       "       -4.9724288 , -3.2646203 ,  3.3718214 ,  0.35646182, -5.50440025,\n",
       "       -0.90741354, -2.43938327,  0.97123891, -2.78461576,  0.74874979,\n",
       "        7.23465443,  0.15557227,  3.02705884,  2.541502  ,  3.14032292,\n",
       "        1.30251169, -1.83116555,  0.64468175, -1.92389059, -0.82483053,\n",
       "       -2.97059417,  5.12450314, -1.74269056,  1.8109107 ,  1.55665874,\n",
       "       -1.42892706,  1.86208618,  2.74175882,  6.05569935,  0.31600872,\n",
       "       -3.7654779 ,  2.29190397,  1.79309726,  1.14913845, -0.3139883 ,\n",
       "        0.28735164,  0.36075822,  1.7362262 , -0.64193821, -0.65429568,\n",
       "       -2.31632185, -0.41044536,  0.96744823,  0.30887654,  0.39183661,\n",
       "        0.07242063,  0.63668644,  1.43162835,  0.54962742, -2.72324181,\n",
       "       -3.5811348 ,  2.26040077,  0.96572745, -2.21005559, -0.57419413,\n",
       "        3.76024342,  1.50881732,  0.73172683, -1.45098174,  2.4136579 ,\n",
       "        1.38993239,  0.87819755,  0.04375168,  2.89577842, -5.2476263 ,\n",
       "       -2.07765102, -3.90935564,  1.85767388,  0.8614217 ,  0.97360998,\n",
       "       -3.13497639,  2.03141117,  2.9461782 ,  1.18381512, -2.85692978,\n",
       "        0.83490908,  1.75034106, -2.95949554, -2.49645019,  1.78208387,\n",
       "        3.93680143, -1.86812401,  1.75653136, -2.61962295,  0.72835255,\n",
       "        1.02431846, -0.45482129,  3.6968739 , -1.36098313, -1.77391219], dtype=float32)"
      ]
     },
     "execution_count": 16,
     "metadata": {},
     "output_type": "execute_result"
    }
   ],
   "source": [
    "noise_approx.cpu().data.numpy().squeeze()"
   ]
  }
 ],
 "metadata": {
  "kernelspec": {
   "display_name": "Python 3",
   "language": "python",
   "name": "python3"
  },
  "language_info": {
   "codemirror_mode": {
    "name": "ipython",
    "version": 3
   },
   "file_extension": ".py",
   "mimetype": "text/x-python",
   "name": "python",
   "nbconvert_exporter": "python",
   "pygments_lexer": "ipython3",
   "version": "3.5.2"
  }
 },
 "nbformat": 4,
 "nbformat_minor": 2
}
