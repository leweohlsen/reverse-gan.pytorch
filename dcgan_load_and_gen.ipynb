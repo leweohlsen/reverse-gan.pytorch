{
 "cells": [
  {
   "cell_type": "code",
   "execution_count": null,
   "metadata": {
    "collapsed": true
   },
   "outputs": [],
   "source": [
    "from __future__ import print_function\n",
    "import argparse\n",
    "import os\n",
    "import random\n",
    "import torch\n",
    "import torch.nn as nn\n",
    "import torch.nn.parallel\n",
    "import torch.backends.cudnn as cudnn\n",
    "import torch.optim as optim\n",
    "import torch.utils.data\n",
    "import torchvision.utils as vutils\n",
    "import time\n",
    "from torch.autograd import Variable\n",
    "from dataset import get_dataloader\n",
    "import numpy as np"
   ]
  },
  {
   "cell_type": "code",
   "execution_count": null,
   "metadata": {
    "collapsed": true
   },
   "outputs": [],
   "source": [
    "from dcgan import NetG, NetD"
   ]
  },
  {
   "cell_type": "code",
   "execution_count": null,
   "metadata": {
    "collapsed": true
   },
   "outputs": [],
   "source": [
    "ngpu = 1\n",
    "nz = 100\n",
    "ngf = 64\n",
    "nc = 3\n",
    "batch_size = 1\n",
    "cuda = True\n",
    "z_distribution = 'uniform'\n",
    "\n",
    "torch.cuda.set_device(0)\n",
    "\n",
    "# load netG\n",
    "netG = NetG(ngpu, nz, ngf, nc)\n",
    "netG.load_state_dict(torch.load('dcgan_out/netG_epoch_10.pth'))"
   ]
  },
  {
   "cell_type": "code",
   "execution_count": null,
   "metadata": {
    "collapsed": true
   },
   "outputs": [],
   "source": [
    "# generate ground-truth noise\n",
    "if z_distribution == 'uniform':\n",
    "    noise = torch.FloatTensor(batch_size, nz, 1, 1).uniform_(-1, 1)\n",
    "elif z_distribution == 'normal':\n",
    "    noise = torch.FloatTensor(batch_size, nz, 1, 1).normal_(0, 1)\n",
    "else:\n",
    "    raise ValueError()\n",
    "noise = Variable(noise)\n",
    "noise.data.resize_(batch_size, nz, 1, 1)\n",
    "noise.data.normal_(0, 1)\n",
    "\n",
    "for param in netG.parameters():\n",
    "    param.requires_grad = False"
   ]
  },
  {
   "cell_type": "code",
   "execution_count": null,
   "metadata": {},
   "outputs": [],
   "source": [
    "# fix fake, and try to find noise_approx\n",
    "if z_distribution == 'uniform':\n",
    "    noise_approx = torch.FloatTensor(batch_size, nz, 1, 1).uniform_(-1, 1)\n",
    "elif z_distribution == 'normal':\n",
    "    noise_approx = torch.FloatTensor(batch_size, nz, 1, 1).normal_(0, 1)\n",
    "else:\n",
    "    raise ValueError()\n",
    "\n",
    "mse_loss = nn.MSELoss()\n",
    "mse_loss_ = nn.MSELoss()\n",
    "\n",
    "if cuda:\n",
    "    netG.cuda()\n",
    "    mse_loss.cuda()\n",
    "    mse_loss_.cuda()\n",
    "    noise, noise_approx = noise.cuda(), noise_approx.cuda()\n",
    "    \n",
    "noise_approx = Variable(noise_approx)\n",
    "noise_approx.requires_grad = True\n",
    "    \n",
    "# generate ground-truth fake\n",
    "fake = netG(noise)\n",
    "\n",
    "optimizer_approx = optim.Adam([noise_approx], lr=0.01)\n",
    "\n",
    "for i in range(100000):\n",
    "    fake_approx = netG(noise_approx)\n",
    "    mse_g_z = mse_loss(fake_approx, fake)\n",
    "    mse_z = mse_loss_(noise_approx, noise)\n",
    "    if i % 100 == 0:\n",
    "        print(\"[Iter {}] MSE_FAKE: {}, MSE_Z: {}\".format(i, mse_g_z.data[0], mse_z.data[0]))\n",
    "    \n",
    "    optimizer_approx.zero_grad()\n",
    "    mse_g_z.backward()\n",
    "    optimizer_approx.step()"
   ]
  },
  {
   "cell_type": "markdown",
   "metadata": {},
   "source": [
    "fake = netG(noise)\n",
    "fake_approx = netG(noise_approx)"
   ]
  },
  {
   "cell_type": "code",
   "execution_count": null,
   "metadata": {
    "collapsed": true
   },
   "outputs": [],
   "source": [
    "vutils.save_image(fake.data, 'fake.png', normalize=True)\n",
    "vutils.save_image(fake_approx.data, 'fake_approx.png', normalize=True)"
   ]
  },
  {
   "cell_type": "code",
   "execution_count": null,
   "metadata": {},
   "outputs": [],
   "source": [
    "noise.cpu().data.numpy().squeeze()"
   ]
  },
  {
   "cell_type": "code",
   "execution_count": null,
   "metadata": {},
   "outputs": [],
   "source": [
    "noise_approx.cpu().data.numpy().squeeze()"
   ]
  }
 ],
 "metadata": {
  "kernelspec": {
   "display_name": "Python 3",
   "language": "python",
   "name": "python3"
  },
  "language_info": {
   "codemirror_mode": {
    "name": "ipython",
    "version": 3
   },
   "file_extension": ".py",
   "mimetype": "text/x-python",
   "name": "python",
   "nbconvert_exporter": "python",
   "pygments_lexer": "ipython3",
   "version": "3.5.2"
  }
 },
 "nbformat": 4,
 "nbformat_minor": 2
}
